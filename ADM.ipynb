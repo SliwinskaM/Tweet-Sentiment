{
  "nbformat": 4,
  "nbformat_minor": 0,
  "metadata": {
    "colab": {
      "provenance": []
    },
    "kernelspec": {
      "name": "python3",
      "display_name": "Python 3"
    },
    "language_info": {
      "name": "python"
    }
  },
  "cells": [
    {
      "cell_type": "markdown",
      "source": [
        "### Preparation"
      ],
      "metadata": {
        "id": "ZbFzHIWgSV4M"
      }
    },
    {
      "cell_type": "code",
      "source": [
        "!pip install Tokenizer"
      ],
      "metadata": {
        "colab": {
          "base_uri": "https://localhost:8080/"
        },
        "id": "oE-9qDyaZ88A",
        "outputId": "a88cd274-8d58-4a0c-9afe-209f06a67a0e"
      },
      "execution_count": null,
      "outputs": [
        {
          "output_type": "stream",
          "name": "stdout",
          "text": [
            "Looking in indexes: https://pypi.org/simple, https://us-python.pkg.dev/colab-wheels/public/simple/\n",
            "Collecting Tokenizer\n",
            "  Downloading tokenizer-3.4.2-py2.py3-none-any.whl (79 kB)\n",
            "\u001b[2K     \u001b[90m━━━━━━━━━━━━━━━━━━━━━━━━━━━━━━━━━━━━━━━━\u001b[0m \u001b[32m79.1/79.1 KB\u001b[0m \u001b[31m7.7 MB/s\u001b[0m eta \u001b[36m0:00:00\u001b[0m\n",
            "\u001b[?25hInstalling collected packages: Tokenizer\n",
            "Successfully installed Tokenizer-3.4.2\n"
          ]
        }
      ]
    },
    {
      "cell_type": "code",
      "source": [
        "!pip install keras_tuner"
      ],
      "metadata": {
        "colab": {
          "base_uri": "https://localhost:8080/"
        },
        "id": "sMEZQMV0SS9j",
        "outputId": "01a7fc4e-2775-4ad2-a36f-1ec3390479f3"
      },
      "execution_count": null,
      "outputs": [
        {
          "output_type": "stream",
          "name": "stdout",
          "text": [
            "Looking in indexes: https://pypi.org/simple, https://us-python.pkg.dev/colab-wheels/public/simple/\n",
            "Collecting keras_tuner\n",
            "  Downloading keras_tuner-1.1.3-py3-none-any.whl (135 kB)\n",
            "\u001b[2K     \u001b[90m━━━━━━━━━━━━━━━━━━━━━━━━━━━━━━━━━━━━━━━\u001b[0m \u001b[32m135.7/135.7 KB\u001b[0m \u001b[31m3.6 MB/s\u001b[0m eta \u001b[36m0:00:00\u001b[0m\n",
            "\u001b[?25hRequirement already satisfied: numpy in /usr/local/lib/python3.8/dist-packages (from keras_tuner) (1.21.6)\n",
            "Requirement already satisfied: packaging in /usr/local/lib/python3.8/dist-packages (from keras_tuner) (21.3)\n",
            "Requirement already satisfied: tensorboard in /usr/local/lib/python3.8/dist-packages (from keras_tuner) (2.9.1)\n",
            "Collecting kt-legacy\n",
            "  Downloading kt_legacy-1.0.4-py3-none-any.whl (9.6 kB)\n",
            "Requirement already satisfied: requests in /usr/local/lib/python3.8/dist-packages (from keras_tuner) (2.25.1)\n",
            "Requirement already satisfied: ipython in /usr/local/lib/python3.8/dist-packages (from keras_tuner) (7.9.0)\n",
            "Requirement already satisfied: backcall in /usr/local/lib/python3.8/dist-packages (from ipython->keras_tuner) (0.2.0)\n",
            "Requirement already satisfied: decorator in /usr/local/lib/python3.8/dist-packages (from ipython->keras_tuner) (4.4.2)\n",
            "Collecting jedi>=0.10\n",
            "  Downloading jedi-0.18.2-py2.py3-none-any.whl (1.6 MB)\n",
            "\u001b[2K     \u001b[90m━━━━━━━━━━━━━━━━━━━━━━━━━━━━━━━━━━━━━━━━\u001b[0m \u001b[32m1.6/1.6 MB\u001b[0m \u001b[31m48.5 MB/s\u001b[0m eta \u001b[36m0:00:00\u001b[0m\n",
            "\u001b[?25hRequirement already satisfied: pickleshare in /usr/local/lib/python3.8/dist-packages (from ipython->keras_tuner) (0.7.5)\n",
            "Requirement already satisfied: traitlets>=4.2 in /usr/local/lib/python3.8/dist-packages (from ipython->keras_tuner) (5.7.1)\n",
            "Requirement already satisfied: setuptools>=18.5 in /usr/local/lib/python3.8/dist-packages (from ipython->keras_tuner) (57.4.0)\n",
            "Requirement already satisfied: pexpect in /usr/local/lib/python3.8/dist-packages (from ipython->keras_tuner) (4.8.0)\n",
            "Requirement already satisfied: pygments in /usr/local/lib/python3.8/dist-packages (from ipython->keras_tuner) (2.6.1)\n",
            "Requirement already satisfied: prompt-toolkit<2.1.0,>=2.0.0 in /usr/local/lib/python3.8/dist-packages (from ipython->keras_tuner) (2.0.10)\n",
            "Requirement already satisfied: pyparsing!=3.0.5,>=2.0.2 in /usr/local/lib/python3.8/dist-packages (from packaging->keras_tuner) (3.0.9)\n",
            "Requirement already satisfied: urllib3<1.27,>=1.21.1 in /usr/local/lib/python3.8/dist-packages (from requests->keras_tuner) (1.24.3)\n",
            "Requirement already satisfied: idna<3,>=2.5 in /usr/local/lib/python3.8/dist-packages (from requests->keras_tuner) (2.10)\n",
            "Requirement already satisfied: chardet<5,>=3.0.2 in /usr/local/lib/python3.8/dist-packages (from requests->keras_tuner) (4.0.0)\n",
            "Requirement already satisfied: certifi>=2017.4.17 in /usr/local/lib/python3.8/dist-packages (from requests->keras_tuner) (2022.12.7)\n",
            "Requirement already satisfied: markdown>=2.6.8 in /usr/local/lib/python3.8/dist-packages (from tensorboard->keras_tuner) (3.4.1)\n",
            "Requirement already satisfied: tensorboard-plugin-wit>=1.6.0 in /usr/local/lib/python3.8/dist-packages (from tensorboard->keras_tuner) (1.8.1)\n",
            "Requirement already satisfied: google-auth-oauthlib<0.5,>=0.4.1 in /usr/local/lib/python3.8/dist-packages (from tensorboard->keras_tuner) (0.4.6)\n",
            "Requirement already satisfied: tensorboard-data-server<0.7.0,>=0.6.0 in /usr/local/lib/python3.8/dist-packages (from tensorboard->keras_tuner) (0.6.1)\n",
            "Requirement already satisfied: google-auth<3,>=1.6.3 in /usr/local/lib/python3.8/dist-packages (from tensorboard->keras_tuner) (2.16.0)\n",
            "Requirement already satisfied: werkzeug>=1.0.1 in /usr/local/lib/python3.8/dist-packages (from tensorboard->keras_tuner) (1.0.1)\n",
            "Requirement already satisfied: grpcio>=1.24.3 in /usr/local/lib/python3.8/dist-packages (from tensorboard->keras_tuner) (1.51.1)\n",
            "Requirement already satisfied: wheel>=0.26 in /usr/local/lib/python3.8/dist-packages (from tensorboard->keras_tuner) (0.38.4)\n",
            "Requirement already satisfied: absl-py>=0.4 in /usr/local/lib/python3.8/dist-packages (from tensorboard->keras_tuner) (1.3.0)\n",
            "Requirement already satisfied: protobuf<3.20,>=3.9.2 in /usr/local/lib/python3.8/dist-packages (from tensorboard->keras_tuner) (3.19.6)\n",
            "Requirement already satisfied: six>=1.9.0 in /usr/local/lib/python3.8/dist-packages (from google-auth<3,>=1.6.3->tensorboard->keras_tuner) (1.15.0)\n",
            "Requirement already satisfied: cachetools<6.0,>=2.0.0 in /usr/local/lib/python3.8/dist-packages (from google-auth<3,>=1.6.3->tensorboard->keras_tuner) (5.2.1)\n",
            "Requirement already satisfied: rsa<5,>=3.1.4 in /usr/local/lib/python3.8/dist-packages (from google-auth<3,>=1.6.3->tensorboard->keras_tuner) (4.9)\n",
            "Requirement already satisfied: pyasn1-modules>=0.2.1 in /usr/local/lib/python3.8/dist-packages (from google-auth<3,>=1.6.3->tensorboard->keras_tuner) (0.2.8)\n",
            "Requirement already satisfied: requests-oauthlib>=0.7.0 in /usr/local/lib/python3.8/dist-packages (from google-auth-oauthlib<0.5,>=0.4.1->tensorboard->keras_tuner) (1.3.1)\n",
            "Requirement already satisfied: parso<0.9.0,>=0.8.0 in /usr/local/lib/python3.8/dist-packages (from jedi>=0.10->ipython->keras_tuner) (0.8.3)\n",
            "Requirement already satisfied: importlib-metadata>=4.4 in /usr/local/lib/python3.8/dist-packages (from markdown>=2.6.8->tensorboard->keras_tuner) (6.0.0)\n",
            "Requirement already satisfied: wcwidth in /usr/local/lib/python3.8/dist-packages (from prompt-toolkit<2.1.0,>=2.0.0->ipython->keras_tuner) (0.2.5)\n",
            "Requirement already satisfied: ptyprocess>=0.5 in /usr/local/lib/python3.8/dist-packages (from pexpect->ipython->keras_tuner) (0.7.0)\n",
            "Requirement already satisfied: zipp>=0.5 in /usr/local/lib/python3.8/dist-packages (from importlib-metadata>=4.4->markdown>=2.6.8->tensorboard->keras_tuner) (3.11.0)\n",
            "Requirement already satisfied: pyasn1<0.5.0,>=0.4.6 in /usr/local/lib/python3.8/dist-packages (from pyasn1-modules>=0.2.1->google-auth<3,>=1.6.3->tensorboard->keras_tuner) (0.4.8)\n",
            "Requirement already satisfied: oauthlib>=3.0.0 in /usr/local/lib/python3.8/dist-packages (from requests-oauthlib>=0.7.0->google-auth-oauthlib<0.5,>=0.4.1->tensorboard->keras_tuner) (3.2.2)\n",
            "Installing collected packages: kt-legacy, jedi, keras_tuner\n",
            "Successfully installed jedi-0.18.2 keras_tuner-1.1.3 kt-legacy-1.0.4\n"
          ]
        }
      ]
    },
    {
      "cell_type": "markdown",
      "source": [
        "## Preprocessing"
      ],
      "metadata": {
        "id": "miY0VaDs4XMh"
      }
    },
    {
      "cell_type": "code",
      "source": [
        "from google.colab import drive\n",
        "drive.mount('/content/gdrive')"
      ],
      "metadata": {
        "colab": {
          "base_uri": "https://localhost:8080/"
        },
        "id": "RbnVHJQz5w8g",
        "outputId": "e88dba5f-76ea-4d09-bbed-d3ffa7343818"
      },
      "execution_count": null,
      "outputs": [
        {
          "output_type": "stream",
          "name": "stdout",
          "text": [
            "Mounted at /content/gdrive\n"
          ]
        }
      ]
    },
    {
      "cell_type": "markdown",
      "source": [
        "### File preprocessing"
      ],
      "metadata": {
        "id": "FRmf9boyjCsC"
      }
    },
    {
      "cell_type": "code",
      "source": [
        "# # Show where to maually clean file - No need to be ran again!\n",
        "\n",
        "# import csv\n",
        "\n",
        "# with open('/content/gdrive/MyDrive/ADM/sentiment140_cleaned.csv', 'rt') as inp:\n",
        "#     count = 0\n",
        "#     for row in csv.reader(inp):\n",
        "#       print(count)\n",
        "#       count += 1"
      ],
      "metadata": {
        "id": "GPt_WWXnLJ_4"
      },
      "execution_count": null,
      "outputs": []
    },
    {
      "cell_type": "code",
      "source": [
        "import pandas as pd\n",
        "\n",
        "filepath = '/content/gdrive/MyDrive/ADM/sentiment140_cleaned.csv'\n",
        "df = pd.read_csv(filepath)\n",
        "\n",
        "# leave only the important data\n",
        "df = df.iloc[:, [0, 5]]\n",
        "df.columns = ['label', 'text_original']\n",
        "\n",
        "# change the labels to fit into the neural network\n",
        "# (from (0 = negative, 2 = neutral, 4 = positive) to (0 = negative, 1 = positive - there were no neutrals in the database))\n",
        "df['label'][df['label'] == 4] = 1 # positive\n",
        "print([df[df['label'] == 2]]) # check if there are any neutral texts\n",
        "\n",
        "# shuffle the data\n",
        "df = df.sample(frac=1).reset_index(drop=True)\n"
      ],
      "metadata": {
        "colab": {
          "base_uri": "https://localhost:8080/"
        },
        "id": "id9vcrf3eZTD",
        "outputId": "045020a0-b52c-4163-aa64-87f455f3605d"
      },
      "execution_count": null,
      "outputs": [
        {
          "output_type": "stream",
          "name": "stderr",
          "text": [
            "<ipython-input-4-4ded47509181>:12: SettingWithCopyWarning: \n",
            "A value is trying to be set on a copy of a slice from a DataFrame\n",
            "\n",
            "See the caveats in the documentation: https://pandas.pydata.org/pandas-docs/stable/user_guide/indexing.html#returning-a-view-versus-a-copy\n",
            "  df['label'][df['label'] == 4] = 1 # positive\n",
            "/usr/local/lib/python3.8/dist-packages/pandas/core/generic.py:8870: SettingWithCopyWarning: \n",
            "A value is trying to be set on a copy of a slice from a DataFrame\n",
            "\n",
            "See the caveats in the documentation: https://pandas.pydata.org/pandas-docs/stable/user_guide/indexing.html#returning-a-view-versus-a-copy\n",
            "  return self._update_inplace(result)\n"
          ]
        },
        {
          "output_type": "stream",
          "name": "stdout",
          "text": [
            "[Empty DataFrame\n",
            "Columns: [label, text_original]\n",
            "Index: []]\n"
          ]
        }
      ]
    },
    {
      "cell_type": "markdown",
      "source": [
        "#### Clean the text:"
      ],
      "metadata": {
        "id": "-hRRZlZtFJ13"
      }
    },
    {
      "cell_type": "code",
      "source": [
        "import re\n",
        "from nltk.corpus import stopwords\n",
        "import nltk\n",
        "nltk.download('stopwords')\n",
        "stopwords = stopwords.words('english')\n",
        "nltk.download('wordnet')\n",
        "\n",
        "from nltk.stem import WordNetLemmatizer\n",
        "\n",
        "\n",
        "def clean_text(text,stopwords,lemmatize=False):\n",
        "  text = text.lower()\n",
        "  text = re.sub(r\"<br />\", \"\", text)\n",
        "  text = re.sub(r\"[,;`^\\.\\\"!?:_()%&{}*+\\#\\$-/\\\\<>=@|~\\]\\[]\", \" \", text)\n",
        "  words = text.split()\n",
        "  words = list(filter(lambda w: not w in stopwords, words))\n",
        "\n",
        "  # normalizes a word with the context of vocabulary and morphological analysis of words in text\n",
        "  if lemmatize:\n",
        "    lemmatizer = WordNetLemmatizer()\n",
        "    words = [lemmatizer.lemmatize(token) for token in words]\n",
        "    words = [lemmatizer.lemmatize(token, \"v\") for token in words]\n",
        "  return ' '.join(words)"
      ],
      "metadata": {
        "colab": {
          "base_uri": "https://localhost:8080/"
        },
        "id": "5U4ykZ9GFIqv",
        "outputId": "b1d1f55e-e3a4-4ddc-e140-526a60bd2f69"
      },
      "execution_count": null,
      "outputs": [
        {
          "output_type": "stream",
          "name": "stderr",
          "text": [
            "[nltk_data] Downloading package stopwords to /root/nltk_data...\n",
            "[nltk_data]   Unzipping corpora/stopwords.zip.\n",
            "[nltk_data] Downloading package wordnet to /root/nltk_data...\n"
          ]
        }
      ]
    },
    {
      "cell_type": "code",
      "source": [
        "df['text'] = df.text_original.apply(lambda t:clean_text(t,stopwords))"
      ],
      "metadata": {
        "id": "9pMkBF1eFuIR"
      },
      "execution_count": null,
      "outputs": []
    },
    {
      "cell_type": "code",
      "source": [
        "df.head(10)"
      ],
      "metadata": {
        "colab": {
          "base_uri": "https://localhost:8080/",
          "height": 363
        },
        "id": "3ysoD4NsGF5W",
        "outputId": "c1a1e5c8-d3a0-42d3-a841-e726de2163c0"
      },
      "execution_count": null,
      "outputs": [
        {
          "output_type": "execute_result",
          "data": {
            "text/plain": [
              "   label                                      text_original  \\\n",
              "0      1  @Shastri_Philip somepeople have to go for work...   \n",
              "1      0  @MartySchwarz Hey Marty. What gauge strings do...   \n",
              "2      0     @fiddlehead ?wrap them in plastic? don't know    \n",
              "3      1  @featureBlend My pleasure! Really enjoyed that...   \n",
              "4      1                              Phone with tylerrrrr    \n",
              "5      0  ah... summer in bethel - hope it  doesn't rain...   \n",
              "6      1                  @sharonhayes..where is the song?    \n",
              "7      1  I'm gonna tidy up my room (at 8am, during summ...   \n",
              "8      1               @dbgrady lol that was a great movie    \n",
              "9      0  @whaleflipflops boo for tix going up  that stinks   \n",
              "\n",
              "                                                text  \n",
              "0             shastri philip somepeople go work time  \n",
              "1  martyschwarz hey marty gauge strings use bough...  \n",
              "2                       fiddlehead wrap plastic know  \n",
              "3          featureblend pleasure really enjoyed link  \n",
              "4                                    phone tylerrrrr  \n",
              "5                  ah summer bethel hope rain summer  \n",
              "6                                   sharonhayes song  \n",
              "7  gonna tidy room 8am summer break totally norma...  \n",
              "8                            dbgrady lol great movie  \n",
              "9                whaleflipflops boo tix going stinks  "
            ],
            "text/html": [
              "\n",
              "  <div id=\"df-5369b7c1-fbbf-4ee2-ba00-576eaf8c3f05\">\n",
              "    <div class=\"colab-df-container\">\n",
              "      <div>\n",
              "<style scoped>\n",
              "    .dataframe tbody tr th:only-of-type {\n",
              "        vertical-align: middle;\n",
              "    }\n",
              "\n",
              "    .dataframe tbody tr th {\n",
              "        vertical-align: top;\n",
              "    }\n",
              "\n",
              "    .dataframe thead th {\n",
              "        text-align: right;\n",
              "    }\n",
              "</style>\n",
              "<table border=\"1\" class=\"dataframe\">\n",
              "  <thead>\n",
              "    <tr style=\"text-align: right;\">\n",
              "      <th></th>\n",
              "      <th>label</th>\n",
              "      <th>text_original</th>\n",
              "      <th>text</th>\n",
              "    </tr>\n",
              "  </thead>\n",
              "  <tbody>\n",
              "    <tr>\n",
              "      <th>0</th>\n",
              "      <td>1</td>\n",
              "      <td>@Shastri_Philip somepeople have to go for work...</td>\n",
              "      <td>shastri philip somepeople go work time</td>\n",
              "    </tr>\n",
              "    <tr>\n",
              "      <th>1</th>\n",
              "      <td>0</td>\n",
              "      <td>@MartySchwarz Hey Marty. What gauge strings do...</td>\n",
              "      <td>martyschwarz hey marty gauge strings use bough...</td>\n",
              "    </tr>\n",
              "    <tr>\n",
              "      <th>2</th>\n",
              "      <td>0</td>\n",
              "      <td>@fiddlehead ?wrap them in plastic? don't know</td>\n",
              "      <td>fiddlehead wrap plastic know</td>\n",
              "    </tr>\n",
              "    <tr>\n",
              "      <th>3</th>\n",
              "      <td>1</td>\n",
              "      <td>@featureBlend My pleasure! Really enjoyed that...</td>\n",
              "      <td>featureblend pleasure really enjoyed link</td>\n",
              "    </tr>\n",
              "    <tr>\n",
              "      <th>4</th>\n",
              "      <td>1</td>\n",
              "      <td>Phone with tylerrrrr</td>\n",
              "      <td>phone tylerrrrr</td>\n",
              "    </tr>\n",
              "    <tr>\n",
              "      <th>5</th>\n",
              "      <td>0</td>\n",
              "      <td>ah... summer in bethel - hope it  doesn't rain...</td>\n",
              "      <td>ah summer bethel hope rain summer</td>\n",
              "    </tr>\n",
              "    <tr>\n",
              "      <th>6</th>\n",
              "      <td>1</td>\n",
              "      <td>@sharonhayes..where is the song?</td>\n",
              "      <td>sharonhayes song</td>\n",
              "    </tr>\n",
              "    <tr>\n",
              "      <th>7</th>\n",
              "      <td>1</td>\n",
              "      <td>I'm gonna tidy up my room (at 8am, during summ...</td>\n",
              "      <td>gonna tidy room 8am summer break totally norma...</td>\n",
              "    </tr>\n",
              "    <tr>\n",
              "      <th>8</th>\n",
              "      <td>1</td>\n",
              "      <td>@dbgrady lol that was a great movie</td>\n",
              "      <td>dbgrady lol great movie</td>\n",
              "    </tr>\n",
              "    <tr>\n",
              "      <th>9</th>\n",
              "      <td>0</td>\n",
              "      <td>@whaleflipflops boo for tix going up  that stinks</td>\n",
              "      <td>whaleflipflops boo tix going stinks</td>\n",
              "    </tr>\n",
              "  </tbody>\n",
              "</table>\n",
              "</div>\n",
              "      <button class=\"colab-df-convert\" onclick=\"convertToInteractive('df-5369b7c1-fbbf-4ee2-ba00-576eaf8c3f05')\"\n",
              "              title=\"Convert this dataframe to an interactive table.\"\n",
              "              style=\"display:none;\">\n",
              "        \n",
              "  <svg xmlns=\"http://www.w3.org/2000/svg\" height=\"24px\"viewBox=\"0 0 24 24\"\n",
              "       width=\"24px\">\n",
              "    <path d=\"M0 0h24v24H0V0z\" fill=\"none\"/>\n",
              "    <path d=\"M18.56 5.44l.94 2.06.94-2.06 2.06-.94-2.06-.94-.94-2.06-.94 2.06-2.06.94zm-11 1L8.5 8.5l.94-2.06 2.06-.94-2.06-.94L8.5 2.5l-.94 2.06-2.06.94zm10 10l.94 2.06.94-2.06 2.06-.94-2.06-.94-.94-2.06-.94 2.06-2.06.94z\"/><path d=\"M17.41 7.96l-1.37-1.37c-.4-.4-.92-.59-1.43-.59-.52 0-1.04.2-1.43.59L10.3 9.45l-7.72 7.72c-.78.78-.78 2.05 0 2.83L4 21.41c.39.39.9.59 1.41.59.51 0 1.02-.2 1.41-.59l7.78-7.78 2.81-2.81c.8-.78.8-2.07 0-2.86zM5.41 20L4 18.59l7.72-7.72 1.47 1.35L5.41 20z\"/>\n",
              "  </svg>\n",
              "      </button>\n",
              "      \n",
              "  <style>\n",
              "    .colab-df-container {\n",
              "      display:flex;\n",
              "      flex-wrap:wrap;\n",
              "      gap: 12px;\n",
              "    }\n",
              "\n",
              "    .colab-df-convert {\n",
              "      background-color: #E8F0FE;\n",
              "      border: none;\n",
              "      border-radius: 50%;\n",
              "      cursor: pointer;\n",
              "      display: none;\n",
              "      fill: #1967D2;\n",
              "      height: 32px;\n",
              "      padding: 0 0 0 0;\n",
              "      width: 32px;\n",
              "    }\n",
              "\n",
              "    .colab-df-convert:hover {\n",
              "      background-color: #E2EBFA;\n",
              "      box-shadow: 0px 1px 2px rgba(60, 64, 67, 0.3), 0px 1px 3px 1px rgba(60, 64, 67, 0.15);\n",
              "      fill: #174EA6;\n",
              "    }\n",
              "\n",
              "    [theme=dark] .colab-df-convert {\n",
              "      background-color: #3B4455;\n",
              "      fill: #D2E3FC;\n",
              "    }\n",
              "\n",
              "    [theme=dark] .colab-df-convert:hover {\n",
              "      background-color: #434B5C;\n",
              "      box-shadow: 0px 1px 3px 1px rgba(0, 0, 0, 0.15);\n",
              "      filter: drop-shadow(0px 1px 2px rgba(0, 0, 0, 0.3));\n",
              "      fill: #FFFFFF;\n",
              "    }\n",
              "  </style>\n",
              "\n",
              "      <script>\n",
              "        const buttonEl =\n",
              "          document.querySelector('#df-5369b7c1-fbbf-4ee2-ba00-576eaf8c3f05 button.colab-df-convert');\n",
              "        buttonEl.style.display =\n",
              "          google.colab.kernel.accessAllowed ? 'block' : 'none';\n",
              "\n",
              "        async function convertToInteractive(key) {\n",
              "          const element = document.querySelector('#df-5369b7c1-fbbf-4ee2-ba00-576eaf8c3f05');\n",
              "          const dataTable =\n",
              "            await google.colab.kernel.invokeFunction('convertToInteractive',\n",
              "                                                     [key], {});\n",
              "          if (!dataTable) return;\n",
              "\n",
              "          const docLinkHtml = 'Like what you see? Visit the ' +\n",
              "            '<a target=\"_blank\" href=https://colab.research.google.com/notebooks/data_table.ipynb>data table notebook</a>'\n",
              "            + ' to learn more about interactive tables.';\n",
              "          element.innerHTML = '';\n",
              "          dataTable['output_type'] = 'display_data';\n",
              "          await google.colab.output.renderOutput(dataTable, element);\n",
              "          const docLink = document.createElement('div');\n",
              "          docLink.innerHTML = docLinkHtml;\n",
              "          element.appendChild(docLink);\n",
              "        }\n",
              "      </script>\n",
              "    </div>\n",
              "  </div>\n",
              "  "
            ]
          },
          "metadata": {},
          "execution_count": 7
        }
      ]
    },
    {
      "cell_type": "markdown",
      "source": [
        "#### Split to train and test"
      ],
      "metadata": {
        "id": "dlo7jGOKExid"
      }
    },
    {
      "cell_type": "code",
      "source": [
        "train_ratio = 0.7\n",
        "max_train = int(train_ratio * len(df))\n",
        "df_train = df.iloc[:max_train]\n",
        "df_test = df.iloc[max_train:]"
      ],
      "metadata": {
        "id": "6xxn1ChKEv64"
      },
      "execution_count": null,
      "outputs": []
    },
    {
      "cell_type": "code",
      "source": [
        "df_train.head(10)"
      ],
      "metadata": {
        "colab": {
          "base_uri": "https://localhost:8080/",
          "height": 363
        },
        "id": "dSqUiYkLnCuv",
        "outputId": "c5b65e50-fed8-4007-efdc-bf36885d79ea"
      },
      "execution_count": null,
      "outputs": [
        {
          "output_type": "execute_result",
          "data": {
            "text/plain": [
              "   label                                      text_original  \\\n",
              "0      1  @Shastri_Philip somepeople have to go for work...   \n",
              "1      0  @MartySchwarz Hey Marty. What gauge strings do...   \n",
              "2      0     @fiddlehead ?wrap them in plastic? don't know    \n",
              "3      1  @featureBlend My pleasure! Really enjoyed that...   \n",
              "4      1                              Phone with tylerrrrr    \n",
              "5      0  ah... summer in bethel - hope it  doesn't rain...   \n",
              "6      1                  @sharonhayes..where is the song?    \n",
              "7      1  I'm gonna tidy up my room (at 8am, during summ...   \n",
              "8      1               @dbgrady lol that was a great movie    \n",
              "9      0  @whaleflipflops boo for tix going up  that stinks   \n",
              "\n",
              "                                                text  \n",
              "0             shastri philip somepeople go work time  \n",
              "1  martyschwarz hey marty gauge strings use bough...  \n",
              "2                       fiddlehead wrap plastic know  \n",
              "3          featureblend pleasure really enjoyed link  \n",
              "4                                    phone tylerrrrr  \n",
              "5                  ah summer bethel hope rain summer  \n",
              "6                                   sharonhayes song  \n",
              "7  gonna tidy room 8am summer break totally norma...  \n",
              "8                            dbgrady lol great movie  \n",
              "9                whaleflipflops boo tix going stinks  "
            ],
            "text/html": [
              "\n",
              "  <div id=\"df-1e85e33d-71f2-4270-bdbb-577e552ed0a6\">\n",
              "    <div class=\"colab-df-container\">\n",
              "      <div>\n",
              "<style scoped>\n",
              "    .dataframe tbody tr th:only-of-type {\n",
              "        vertical-align: middle;\n",
              "    }\n",
              "\n",
              "    .dataframe tbody tr th {\n",
              "        vertical-align: top;\n",
              "    }\n",
              "\n",
              "    .dataframe thead th {\n",
              "        text-align: right;\n",
              "    }\n",
              "</style>\n",
              "<table border=\"1\" class=\"dataframe\">\n",
              "  <thead>\n",
              "    <tr style=\"text-align: right;\">\n",
              "      <th></th>\n",
              "      <th>label</th>\n",
              "      <th>text_original</th>\n",
              "      <th>text</th>\n",
              "    </tr>\n",
              "  </thead>\n",
              "  <tbody>\n",
              "    <tr>\n",
              "      <th>0</th>\n",
              "      <td>1</td>\n",
              "      <td>@Shastri_Philip somepeople have to go for work...</td>\n",
              "      <td>shastri philip somepeople go work time</td>\n",
              "    </tr>\n",
              "    <tr>\n",
              "      <th>1</th>\n",
              "      <td>0</td>\n",
              "      <td>@MartySchwarz Hey Marty. What gauge strings do...</td>\n",
              "      <td>martyschwarz hey marty gauge strings use bough...</td>\n",
              "    </tr>\n",
              "    <tr>\n",
              "      <th>2</th>\n",
              "      <td>0</td>\n",
              "      <td>@fiddlehead ?wrap them in plastic? don't know</td>\n",
              "      <td>fiddlehead wrap plastic know</td>\n",
              "    </tr>\n",
              "    <tr>\n",
              "      <th>3</th>\n",
              "      <td>1</td>\n",
              "      <td>@featureBlend My pleasure! Really enjoyed that...</td>\n",
              "      <td>featureblend pleasure really enjoyed link</td>\n",
              "    </tr>\n",
              "    <tr>\n",
              "      <th>4</th>\n",
              "      <td>1</td>\n",
              "      <td>Phone with tylerrrrr</td>\n",
              "      <td>phone tylerrrrr</td>\n",
              "    </tr>\n",
              "    <tr>\n",
              "      <th>5</th>\n",
              "      <td>0</td>\n",
              "      <td>ah... summer in bethel - hope it  doesn't rain...</td>\n",
              "      <td>ah summer bethel hope rain summer</td>\n",
              "    </tr>\n",
              "    <tr>\n",
              "      <th>6</th>\n",
              "      <td>1</td>\n",
              "      <td>@sharonhayes..where is the song?</td>\n",
              "      <td>sharonhayes song</td>\n",
              "    </tr>\n",
              "    <tr>\n",
              "      <th>7</th>\n",
              "      <td>1</td>\n",
              "      <td>I'm gonna tidy up my room (at 8am, during summ...</td>\n",
              "      <td>gonna tidy room 8am summer break totally norma...</td>\n",
              "    </tr>\n",
              "    <tr>\n",
              "      <th>8</th>\n",
              "      <td>1</td>\n",
              "      <td>@dbgrady lol that was a great movie</td>\n",
              "      <td>dbgrady lol great movie</td>\n",
              "    </tr>\n",
              "    <tr>\n",
              "      <th>9</th>\n",
              "      <td>0</td>\n",
              "      <td>@whaleflipflops boo for tix going up  that stinks</td>\n",
              "      <td>whaleflipflops boo tix going stinks</td>\n",
              "    </tr>\n",
              "  </tbody>\n",
              "</table>\n",
              "</div>\n",
              "      <button class=\"colab-df-convert\" onclick=\"convertToInteractive('df-1e85e33d-71f2-4270-bdbb-577e552ed0a6')\"\n",
              "              title=\"Convert this dataframe to an interactive table.\"\n",
              "              style=\"display:none;\">\n",
              "        \n",
              "  <svg xmlns=\"http://www.w3.org/2000/svg\" height=\"24px\"viewBox=\"0 0 24 24\"\n",
              "       width=\"24px\">\n",
              "    <path d=\"M0 0h24v24H0V0z\" fill=\"none\"/>\n",
              "    <path d=\"M18.56 5.44l.94 2.06.94-2.06 2.06-.94-2.06-.94-.94-2.06-.94 2.06-2.06.94zm-11 1L8.5 8.5l.94-2.06 2.06-.94-2.06-.94L8.5 2.5l-.94 2.06-2.06.94zm10 10l.94 2.06.94-2.06 2.06-.94-2.06-.94-.94-2.06-.94 2.06-2.06.94z\"/><path d=\"M17.41 7.96l-1.37-1.37c-.4-.4-.92-.59-1.43-.59-.52 0-1.04.2-1.43.59L10.3 9.45l-7.72 7.72c-.78.78-.78 2.05 0 2.83L4 21.41c.39.39.9.59 1.41.59.51 0 1.02-.2 1.41-.59l7.78-7.78 2.81-2.81c.8-.78.8-2.07 0-2.86zM5.41 20L4 18.59l7.72-7.72 1.47 1.35L5.41 20z\"/>\n",
              "  </svg>\n",
              "      </button>\n",
              "      \n",
              "  <style>\n",
              "    .colab-df-container {\n",
              "      display:flex;\n",
              "      flex-wrap:wrap;\n",
              "      gap: 12px;\n",
              "    }\n",
              "\n",
              "    .colab-df-convert {\n",
              "      background-color: #E8F0FE;\n",
              "      border: none;\n",
              "      border-radius: 50%;\n",
              "      cursor: pointer;\n",
              "      display: none;\n",
              "      fill: #1967D2;\n",
              "      height: 32px;\n",
              "      padding: 0 0 0 0;\n",
              "      width: 32px;\n",
              "    }\n",
              "\n",
              "    .colab-df-convert:hover {\n",
              "      background-color: #E2EBFA;\n",
              "      box-shadow: 0px 1px 2px rgba(60, 64, 67, 0.3), 0px 1px 3px 1px rgba(60, 64, 67, 0.15);\n",
              "      fill: #174EA6;\n",
              "    }\n",
              "\n",
              "    [theme=dark] .colab-df-convert {\n",
              "      background-color: #3B4455;\n",
              "      fill: #D2E3FC;\n",
              "    }\n",
              "\n",
              "    [theme=dark] .colab-df-convert:hover {\n",
              "      background-color: #434B5C;\n",
              "      box-shadow: 0px 1px 3px 1px rgba(0, 0, 0, 0.15);\n",
              "      filter: drop-shadow(0px 1px 2px rgba(0, 0, 0, 0.3));\n",
              "      fill: #FFFFFF;\n",
              "    }\n",
              "  </style>\n",
              "\n",
              "      <script>\n",
              "        const buttonEl =\n",
              "          document.querySelector('#df-1e85e33d-71f2-4270-bdbb-577e552ed0a6 button.colab-df-convert');\n",
              "        buttonEl.style.display =\n",
              "          google.colab.kernel.accessAllowed ? 'block' : 'none';\n",
              "\n",
              "        async function convertToInteractive(key) {\n",
              "          const element = document.querySelector('#df-1e85e33d-71f2-4270-bdbb-577e552ed0a6');\n",
              "          const dataTable =\n",
              "            await google.colab.kernel.invokeFunction('convertToInteractive',\n",
              "                                                     [key], {});\n",
              "          if (!dataTable) return;\n",
              "\n",
              "          const docLinkHtml = 'Like what you see? Visit the ' +\n",
              "            '<a target=\"_blank\" href=https://colab.research.google.com/notebooks/data_table.ipynb>data table notebook</a>'\n",
              "            + ' to learn more about interactive tables.';\n",
              "          element.innerHTML = '';\n",
              "          dataTable['output_type'] = 'display_data';\n",
              "          await google.colab.output.renderOutput(dataTable, element);\n",
              "          const docLink = document.createElement('div');\n",
              "          docLink.innerHTML = docLinkHtml;\n",
              "          element.appendChild(docLink);\n",
              "        }\n",
              "      </script>\n",
              "    </div>\n",
              "  </div>\n",
              "  "
            ]
          },
          "metadata": {},
          "execution_count": 9
        }
      ]
    },
    {
      "cell_type": "code",
      "source": [
        "df_test.head(10)"
      ],
      "metadata": {
        "colab": {
          "base_uri": "https://localhost:8080/",
          "height": 363
        },
        "id": "gozctYCq0L9b",
        "outputId": "2615649b-15a8-43b3-b44e-ed82a727ee56"
      },
      "execution_count": null,
      "outputs": [
        {
          "output_type": "execute_result",
          "data": {
            "text/plain": [
              "         label                                      text_original  \\\n",
              "1119998      0             @ Home ... really really really bored    \n",
              "1119999      1  http://twitpic.com/61ff5 - (left side)Look at ...   \n",
              "1120000      0  is not looking fwd to the next 2 weeks at work...   \n",
              "1120001      1    @katiecupcake I live in South Central PA. York    \n",
              "1120002      0  Drumming is too tiring  .. I may quit and swit...   \n",
              "1120003      0  @erinbatt It's not just you... it does feel em...   \n",
              "1120004      1                         @robwhite Happy Birthday!    \n",
              "1120005      0  Guess what, VZ &quot;New Every Two&quot; isn't...   \n",
              "1120006      0  It sucks when you like some one but they dont ...   \n",
              "1120007      0  @TweetRamona haah all my friends say my metabo...   \n",
              "\n",
              "                                                      text  \n",
              "1119998                    home really really really bored  \n",
              "1119999  http twitpic com 61ff5 left side look shoe fri...  \n",
              "1120000  looking fwd next 2 weeks work cindy work gonna...  \n",
              "1120001            katiecupcake live south central pa york  \n",
              "1120002               drumming tiring may quit switch harp  \n",
              "1120003                         erinbatt feel emptier peep  \n",
              "1120004                            robwhite happy birthday  \n",
              "1120005  guess vz quot new every two quot contract end ...  \n",
              "1120006                           sucks like one dont feel  \n",
              "1120007  tweetramona haah friends say metabolism change...  "
            ],
            "text/html": [
              "\n",
              "  <div id=\"df-0495f3fb-9724-4e56-9ece-96f5421d5e8d\">\n",
              "    <div class=\"colab-df-container\">\n",
              "      <div>\n",
              "<style scoped>\n",
              "    .dataframe tbody tr th:only-of-type {\n",
              "        vertical-align: middle;\n",
              "    }\n",
              "\n",
              "    .dataframe tbody tr th {\n",
              "        vertical-align: top;\n",
              "    }\n",
              "\n",
              "    .dataframe thead th {\n",
              "        text-align: right;\n",
              "    }\n",
              "</style>\n",
              "<table border=\"1\" class=\"dataframe\">\n",
              "  <thead>\n",
              "    <tr style=\"text-align: right;\">\n",
              "      <th></th>\n",
              "      <th>label</th>\n",
              "      <th>text_original</th>\n",
              "      <th>text</th>\n",
              "    </tr>\n",
              "  </thead>\n",
              "  <tbody>\n",
              "    <tr>\n",
              "      <th>1119998</th>\n",
              "      <td>0</td>\n",
              "      <td>@ Home ... really really really bored</td>\n",
              "      <td>home really really really bored</td>\n",
              "    </tr>\n",
              "    <tr>\n",
              "      <th>1119999</th>\n",
              "      <td>1</td>\n",
              "      <td>http://twitpic.com/61ff5 - (left side)Look at ...</td>\n",
              "      <td>http twitpic com 61ff5 left side look shoe fri...</td>\n",
              "    </tr>\n",
              "    <tr>\n",
              "      <th>1120000</th>\n",
              "      <td>0</td>\n",
              "      <td>is not looking fwd to the next 2 weeks at work...</td>\n",
              "      <td>looking fwd next 2 weeks work cindy work gonna...</td>\n",
              "    </tr>\n",
              "    <tr>\n",
              "      <th>1120001</th>\n",
              "      <td>1</td>\n",
              "      <td>@katiecupcake I live in South Central PA. York</td>\n",
              "      <td>katiecupcake live south central pa york</td>\n",
              "    </tr>\n",
              "    <tr>\n",
              "      <th>1120002</th>\n",
              "      <td>0</td>\n",
              "      <td>Drumming is too tiring  .. I may quit and swit...</td>\n",
              "      <td>drumming tiring may quit switch harp</td>\n",
              "    </tr>\n",
              "    <tr>\n",
              "      <th>1120003</th>\n",
              "      <td>0</td>\n",
              "      <td>@erinbatt It's not just you... it does feel em...</td>\n",
              "      <td>erinbatt feel emptier peep</td>\n",
              "    </tr>\n",
              "    <tr>\n",
              "      <th>1120004</th>\n",
              "      <td>1</td>\n",
              "      <td>@robwhite Happy Birthday!</td>\n",
              "      <td>robwhite happy birthday</td>\n",
              "    </tr>\n",
              "    <tr>\n",
              "      <th>1120005</th>\n",
              "      <td>0</td>\n",
              "      <td>Guess what, VZ &amp;quot;New Every Two&amp;quot; isn't...</td>\n",
              "      <td>guess vz quot new every two quot contract end ...</td>\n",
              "    </tr>\n",
              "    <tr>\n",
              "      <th>1120006</th>\n",
              "      <td>0</td>\n",
              "      <td>It sucks when you like some one but they dont ...</td>\n",
              "      <td>sucks like one dont feel</td>\n",
              "    </tr>\n",
              "    <tr>\n",
              "      <th>1120007</th>\n",
              "      <td>0</td>\n",
              "      <td>@TweetRamona haah all my friends say my metabo...</td>\n",
              "      <td>tweetramona haah friends say metabolism change...</td>\n",
              "    </tr>\n",
              "  </tbody>\n",
              "</table>\n",
              "</div>\n",
              "      <button class=\"colab-df-convert\" onclick=\"convertToInteractive('df-0495f3fb-9724-4e56-9ece-96f5421d5e8d')\"\n",
              "              title=\"Convert this dataframe to an interactive table.\"\n",
              "              style=\"display:none;\">\n",
              "        \n",
              "  <svg xmlns=\"http://www.w3.org/2000/svg\" height=\"24px\"viewBox=\"0 0 24 24\"\n",
              "       width=\"24px\">\n",
              "    <path d=\"M0 0h24v24H0V0z\" fill=\"none\"/>\n",
              "    <path d=\"M18.56 5.44l.94 2.06.94-2.06 2.06-.94-2.06-.94-.94-2.06-.94 2.06-2.06.94zm-11 1L8.5 8.5l.94-2.06 2.06-.94-2.06-.94L8.5 2.5l-.94 2.06-2.06.94zm10 10l.94 2.06.94-2.06 2.06-.94-2.06-.94-.94-2.06-.94 2.06-2.06.94z\"/><path d=\"M17.41 7.96l-1.37-1.37c-.4-.4-.92-.59-1.43-.59-.52 0-1.04.2-1.43.59L10.3 9.45l-7.72 7.72c-.78.78-.78 2.05 0 2.83L4 21.41c.39.39.9.59 1.41.59.51 0 1.02-.2 1.41-.59l7.78-7.78 2.81-2.81c.8-.78.8-2.07 0-2.86zM5.41 20L4 18.59l7.72-7.72 1.47 1.35L5.41 20z\"/>\n",
              "  </svg>\n",
              "      </button>\n",
              "      \n",
              "  <style>\n",
              "    .colab-df-container {\n",
              "      display:flex;\n",
              "      flex-wrap:wrap;\n",
              "      gap: 12px;\n",
              "    }\n",
              "\n",
              "    .colab-df-convert {\n",
              "      background-color: #E8F0FE;\n",
              "      border: none;\n",
              "      border-radius: 50%;\n",
              "      cursor: pointer;\n",
              "      display: none;\n",
              "      fill: #1967D2;\n",
              "      height: 32px;\n",
              "      padding: 0 0 0 0;\n",
              "      width: 32px;\n",
              "    }\n",
              "\n",
              "    .colab-df-convert:hover {\n",
              "      background-color: #E2EBFA;\n",
              "      box-shadow: 0px 1px 2px rgba(60, 64, 67, 0.3), 0px 1px 3px 1px rgba(60, 64, 67, 0.15);\n",
              "      fill: #174EA6;\n",
              "    }\n",
              "\n",
              "    [theme=dark] .colab-df-convert {\n",
              "      background-color: #3B4455;\n",
              "      fill: #D2E3FC;\n",
              "    }\n",
              "\n",
              "    [theme=dark] .colab-df-convert:hover {\n",
              "      background-color: #434B5C;\n",
              "      box-shadow: 0px 1px 3px 1px rgba(0, 0, 0, 0.15);\n",
              "      filter: drop-shadow(0px 1px 2px rgba(0, 0, 0, 0.3));\n",
              "      fill: #FFFFFF;\n",
              "    }\n",
              "  </style>\n",
              "\n",
              "      <script>\n",
              "        const buttonEl =\n",
              "          document.querySelector('#df-0495f3fb-9724-4e56-9ece-96f5421d5e8d button.colab-df-convert');\n",
              "        buttonEl.style.display =\n",
              "          google.colab.kernel.accessAllowed ? 'block' : 'none';\n",
              "\n",
              "        async function convertToInteractive(key) {\n",
              "          const element = document.querySelector('#df-0495f3fb-9724-4e56-9ece-96f5421d5e8d');\n",
              "          const dataTable =\n",
              "            await google.colab.kernel.invokeFunction('convertToInteractive',\n",
              "                                                     [key], {});\n",
              "          if (!dataTable) return;\n",
              "\n",
              "          const docLinkHtml = 'Like what you see? Visit the ' +\n",
              "            '<a target=\"_blank\" href=https://colab.research.google.com/notebooks/data_table.ipynb>data table notebook</a>'\n",
              "            + ' to learn more about interactive tables.';\n",
              "          element.innerHTML = '';\n",
              "          dataTable['output_type'] = 'display_data';\n",
              "          await google.colab.output.renderOutput(dataTable, element);\n",
              "          const docLink = document.createElement('div');\n",
              "          docLink.innerHTML = docLinkHtml;\n",
              "          element.appendChild(docLink);\n",
              "        }\n",
              "      </script>\n",
              "    </div>\n",
              "  </div>\n",
              "  "
            ]
          },
          "metadata": {},
          "execution_count": 10
        }
      ]
    },
    {
      "cell_type": "markdown",
      "source": [
        "# First approach - tf-idf"
      ],
      "metadata": {
        "id": "J4OS44WIzXen"
      }
    },
    {
      "cell_type": "code",
      "source": [
        "from sklearn.feature_extraction.text import TfidfVectorizer\n",
        "\n",
        "max_words = 100_000\n",
        "vectorizer = TfidfVectorizer(max_features=max_words)\n",
        "vectorizer.fit(df_train.text)\n",
        "X_train = vectorizer.transform(df_train.text)\n",
        "X_test = vectorizer.transform(df_test.text)"
      ],
      "metadata": {
        "id": "8jFF-BET7Z__"
      },
      "execution_count": null,
      "outputs": []
    },
    {
      "cell_type": "code",
      "source": [
        "print(X_train.shape)\n",
        "print(X_test.shape)"
      ],
      "metadata": {
        "colab": {
          "base_uri": "https://localhost:8080/"
        },
        "id": "oJUoZoY49Qrw",
        "outputId": "69252538-ff14-472a-b9f8-2491e66c2131"
      },
      "execution_count": null,
      "outputs": [
        {
          "output_type": "stream",
          "name": "stdout",
          "text": [
            "(1119998, 100000)\n",
            "(480000, 100000)\n"
          ]
        }
      ]
    },
    {
      "cell_type": "code",
      "source": [
        "from sklearn.naive_bayes import MultinomialNB\n",
        "from sklearn.metrics import confusion_matrix, classification_report, ConfusionMatrixDisplay\n",
        "\n",
        "model1 = MultinomialNB()\n",
        "\n",
        "model1.fit(X_train,df_train.label)\n",
        "y_pred1 = model1.predict(X_test)\n",
        "\n",
        "print(classification_report(y_pred1,df_test.label))\n",
        "cm = confusion_matrix(y_pred1,df_test.label)\n",
        "disp = ConfusionMatrixDisplay(confusion_matrix=cm,\n",
        "                              display_labels=model1.classes_)\n",
        "disp.plot()"
      ],
      "metadata": {
        "colab": {
          "base_uri": "https://localhost:8080/",
          "height": 453
        },
        "id": "uvyB0gS8_oFg",
        "outputId": "0738e9b5-05cf-45bc-9714-4f9424f88385"
      },
      "execution_count": null,
      "outputs": [
        {
          "output_type": "stream",
          "name": "stdout",
          "text": [
            "              precision    recall  f1-score   support\n",
            "\n",
            "           0       0.78      0.75      0.77    246414\n",
            "           1       0.75      0.77      0.76    233586\n",
            "\n",
            "    accuracy                           0.76    480000\n",
            "   macro avg       0.76      0.76      0.76    480000\n",
            "weighted avg       0.76      0.76      0.76    480000\n",
            "\n"
          ]
        },
        {
          "output_type": "execute_result",
          "data": {
            "text/plain": [
              "<sklearn.metrics._plot.confusion_matrix.ConfusionMatrixDisplay at 0x7f87dc4da310>"
            ]
          },
          "metadata": {},
          "execution_count": 68
        },
        {
          "output_type": "display_data",
          "data": {
            "text/plain": [
              "<Figure size 432x288 with 2 Axes>"
            ],
            "image/png": "[encoded data removed]"
          },
          "metadata": {
            "needs_background": "light"
          }
        }
      ]
    },
    {
      "cell_type": "markdown",
      "source": [
        "# Second approach - embeddings and fine-tuing of the parameters"
      ],
      "metadata": {
        "id": "J1tEeekDyzxC"
      }
    },
    {
      "cell_type": "markdown",
      "source": [
        "### Text preprocessing"
      ],
      "metadata": {
        "id": "DKsA6ggRjIw6"
      }
    },
    {
      "cell_type": "markdown",
      "source": [
        "Tokenize the words"
      ],
      "metadata": {
        "id": "hkXX2VjzMWFI"
      }
    },
    {
      "cell_type": "code",
      "source": [
        "import tensorflow as tf\n",
        "# from tensorflow.keras import layers\n",
        "# from tensorflow.keras import preprocessing\n",
        "from tensorflow.keras.preprocessing.text import Tokenizer\n",
        "\n",
        "num_words = 10_000\n",
        "tokenizer = Tokenizer(num_words=num_words)\n",
        "tokenizer.fit_on_texts(df_train.text)\n",
        "seq_train = tokenizer.texts_to_sequences(df_train.text)\n",
        "seq_test = tokenizer.texts_to_sequences(df_test.text)\n",
        "\n",
        "# print(seq_train[0])\n",
        "# print(tokenizer.word_index)"
      ],
      "metadata": {
        "id": "ykTWxYgIjINe"
      },
      "execution_count": null,
      "outputs": []
    },
    {
      "cell_type": "markdown",
      "source": [
        "The neural network expects input of equal length. Sequences have to be padded with 0s or shortened to fit the optimized length (long enough to fit most of the texts but not too long if only a few texts are that long)."
      ],
      "metadata": {
        "id": "Mjw9YlQDYLPY"
      }
    },
    {
      "cell_type": "code",
      "source": [
        "import matplotlib.pyplot as plt\n",
        "\n",
        "lens = [len(s) for s in seq_train]\n",
        "plt.hist(lens, bins=50)\n",
        "plt.title('Number of texts with given number of words')\n",
        "plt.xlim([0, 40])\n",
        "plt.xlabel('Number of texts')\n",
        "plt.xlabel('Number of words')"
      ],
      "metadata": {
        "colab": {
          "base_uri": "https://localhost:8080/",
          "height": 312
        },
        "id": "Znv7L7J1i7dq",
        "outputId": "8d7e4fff-3b8c-4541-bcfa-426710f97368"
      },
      "execution_count": null,
      "outputs": [
        {
          "output_type": "execute_result",
          "data": {
            "text/plain": [
              "Text(0.5, 0, 'Number of words')"
            ]
          },
          "metadata": {},
          "execution_count": 16
        },
        {
          "output_type": "display_data",
          "data": {
            "text/plain": [
              "<Figure size 432x288 with 1 Axes>"
            ],
            "image/png": "[encoded data removed]"
          },
          "metadata": {
            "needs_background": "light"
          }
        }
      ]
    },
    {
      "cell_type": "code",
      "source": [
        "from keras.utils import pad_sequences\n",
        "\n",
        "maxlen = 15 # based on the histogram\n",
        "seq_train_padded = pad_sequences(seq_train, maxlen=maxlen)\n",
        "seq_test_padded = pad_sequences(seq_test, maxlen=maxlen)"
      ],
      "metadata": {
        "id": "c_39VGx5YDEA"
      },
      "execution_count": null,
      "outputs": []
    },
    {
      "cell_type": "markdown",
      "source": [
        "Visualization of padding"
      ],
      "metadata": {
        "id": "3JsMzObWZHq9"
      }
    },
    {
      "cell_type": "code",
      "source": [
        "import numpy as np\n",
        "print('Example padded sequence:')\n",
        "print(seq_train_padded[0])\n",
        "\n",
        "sub_seq = seq_train_padded[0:50,:]\n",
        "sub_seq = np.where(sub_seq>0, 1, 0)\n",
        "plt.matshow(sub_seq)\n",
        "plt.title('Padding of first 50 sequences')\n",
        "plt.legend(['Padding', 'Words'])"
      ],
      "metadata": {
        "colab": {
          "base_uri": "https://localhost:8080/",
          "height": 884
        },
        "id": "ri-JnQUsZF2I",
        "outputId": "26da17ab-318c-4686-a806-fef46c46f92b"
      },
      "execution_count": null,
      "outputs": [
        {
          "output_type": "stream",
          "name": "stdout",
          "text": [
            "Example padded sequence:\n",
            "[ 0  0  0  0  0  0  0  0  0  0  0  0  5 10 14]\n"
          ]
        },
        {
          "output_type": "execute_result",
          "data": {
            "text/plain": [
              "<matplotlib.legend.Legend at 0x7f87e1bb3f40>"
            ]
          },
          "metadata": {},
          "execution_count": 18
        },
        {
          "output_type": "display_data",
          "data": {
            "text/plain": [
              "<Figure size 288x960 with 1 Axes>"
            ],
            "image/png": "[encoded data removed]"
          },
          "metadata": {
            "needs_background": "light"
          }
        }
      ]
    },
    {
      "cell_type": "markdown",
      "source": [
        "### Model and classification"
      ],
      "metadata": {
        "id": "dPam-sOHmKJH"
      }
    },
    {
      "cell_type": "markdown",
      "source": [
        "Model with fine-tuinig"
      ],
      "metadata": {
        "id": "XbjVypYnLbPH"
      }
    },
    {
      "cell_type": "code",
      "source": [
        "from keras.models import Sequential\n",
        "from keras.layers import Flatten, Dense, Embedding, Dropout\n",
        "from keras.optimizers import Adam\n",
        "from keras.losses import SparseCategoricalCrossentropy\n",
        "\n",
        "def build_model(hp):\n",
        "  model = Sequential()\n",
        "  model.add(Embedding(input_dim=10_000,\n",
        "                      output_dim=hp.Int('output_dim', min_value=8, max_value=64, step=8),\n",
        "                      input_length=maxlen))\n",
        "  model.add(Flatten())\n",
        "  model.add(Dense(2, activation=hp.Choice('activation', ['softmax', 'sigmoid'])))\n",
        "  hp_learning_rate = hp.Choice('learning_rate', values=[1e-2, 1e-3, 1e-4])\n",
        "  model.compile(optimizer=Adam(learning_rate=hp_learning_rate),\n",
        "                loss=SparseCategoricalCrossentropy(from_logits=True),\n",
        "                metrics=['accuracy'])\n",
        "  return model"
      ],
      "metadata": {
        "id": "bhjc5tVKmF_7"
      },
      "execution_count": null,
      "outputs": []
    },
    {
      "cell_type": "code",
      "source": [
        "import keras_tuner\n",
        "\n",
        "tuner = keras_tuner.Hyperband(build_model,\n",
        "                     objective='val_accuracy',\n",
        "                     max_epochs=10,\n",
        "                     overwrite=True)"
      ],
      "metadata": {
        "id": "R4p4Sek1PkHG"
      },
      "execution_count": null,
      "outputs": []
    },
    {
      "cell_type": "code",
      "source": [
        "seq_train_padded_short = seq_train_padded[:100000]\n",
        "seq_test_padded_short = seq_test_padded[:30000]\n",
        "train_labels_short = df_train.label[:100000]\n",
        "test_labels_short = df_test.label[:30000]\n",
        "\n",
        "tuner.search(seq_train_padded_short, train_labels_short, epochs=5, validation_data=(seq_test_padded_short, test_labels_short))\n",
        "\n",
        "best_model = tuner.get_best_models()[0]\n",
        "best_hps=tuner.get_best_hyperparameters()[0]\n",
        "\n",
        "print(best_hps.get('output_dim'))\n",
        "print(best_hps.get('activation'))\n",
        "print(best_hps.get('learning_rate'))"
      ],
      "metadata": {
        "colab": {
          "base_uri": "https://localhost:8080/"
        },
        "id": "lGunPKueQBGv",
        "outputId": "9cf65e28-ef79-4b98-cf02-b8cab93eeae4"
      },
      "execution_count": null,
      "outputs": [
        {
          "output_type": "stream",
          "name": "stdout",
          "text": [
            "Trial 30 Complete [00h 02m 09s]\n",
            "val_accuracy: 0.7249333262443542\n",
            "\n",
            "Best val_accuracy So Far: 0.7633333206176758\n",
            "Total elapsed time: 00h 29m 46s\n",
            "56\n",
            "sigmoid\n",
            "0.0001\n"
          ]
        }
      ]
    },
    {
      "cell_type": "code",
      "source": [
        "best_model.summary()"
      ],
      "metadata": {
        "colab": {
          "base_uri": "https://localhost:8080/"
        },
        "id": "mCBavVcXQ367",
        "outputId": "43670ad7-a1b1-4602-918b-96ad671d60f2"
      },
      "execution_count": null,
      "outputs": [
        {
          "output_type": "stream",
          "name": "stdout",
          "text": [
            "Model: \"sequential\"\n",
            "_________________________________________________________________\n",
            " Layer (type)                Output Shape              Param #   \n",
            "=================================================================\n",
            " embedding (Embedding)       (None, 15, 56)            560000    \n",
            "                                                                 \n",
            " flatten (Flatten)           (None, 840)               0         \n",
            "                                                                 \n",
            " dense (Dense)               (None, 2)                 1682      \n",
            "                                                                 \n",
            "=================================================================\n",
            "Total params: 561,682\n",
            "Trainable params: 561,682\n",
            "Non-trainable params: 0\n",
            "_________________________________________________________________\n"
          ]
        }
      ]
    },
    {
      "cell_type": "code",
      "source": [
        "hist = best_model.fit(seq_train_padded, df_train.label,\n",
        "                    epochs=20,\n",
        "                    batch_size=32,\n",
        "                    validation_split=0.2)"
      ],
      "metadata": {
        "colab": {
          "base_uri": "https://localhost:8080/"
        },
        "id": "OE2x2X18Q6ju",
        "outputId": "ca5e7755-200f-42e7-a1e9-0bb9411f05d0"
      },
      "execution_count": null,
      "outputs": [
        {
          "output_type": "stream",
          "name": "stderr",
          "text": [
            "WARNING:tensorflow:Detecting that an object or model or tf.train.Checkpoint is being deleted with unrestored values. See the following logs for the specific values in question. To silence these warnings, use `status.expect_partial()`. See https://www.tensorflow.org/api_docs/python/tf/train/Checkpoint#restorefor details about the status object returned by the restore function.\n",
            "WARNING:tensorflow:Value in checkpoint could not be found in the restored object: (root).optimizer.iter\n",
            "WARNING:tensorflow:Value in checkpoint could not be found in the restored object: (root).optimizer.decay\n",
            "WARNING:tensorflow:Value in checkpoint could not be found in the restored object: (root).optimizer.learning_rate\n",
            "WARNING:tensorflow:Value in checkpoint could not be found in the restored object: (root).optimizer.momentum\n",
            "WARNING:tensorflow:Value in checkpoint could not be found in the restored object: (root).optimizer.rho\n"
          ]
        },
        {
          "output_type": "stream",
          "name": "stdout",
          "text": [
            "Epoch 1/20\n",
            "28000/28000 [==============================] - 137s 5ms/step - loss: 0.4751 - accuracy: 0.7755 - val_loss: 0.4761 - val_accuracy: 0.7753\n",
            "Epoch 2/20\n",
            "28000/28000 [==============================] - 132s 5ms/step - loss: 0.4618 - accuracy: 0.7844 - val_loss: 0.4764 - val_accuracy: 0.7755\n",
            "Epoch 3/20\n",
            "28000/28000 [==============================] - 129s 5ms/step - loss: 0.4538 - accuracy: 0.7896 - val_loss: 0.4793 - val_accuracy: 0.7732\n",
            "Epoch 4/20\n",
            "28000/28000 [==============================] - 134s 5ms/step - loss: 0.4466 - accuracy: 0.7941 - val_loss: 0.4838 - val_accuracy: 0.7710\n",
            "Epoch 5/20\n",
            "28000/28000 [==============================] - 138s 5ms/step - loss: 0.4401 - accuracy: 0.7981 - val_loss: 0.4887 - val_accuracy: 0.7691\n",
            "Epoch 6/20\n",
            "28000/28000 [==============================] - 135s 5ms/step - loss: 0.4344 - accuracy: 0.8017 - val_loss: 0.4941 - val_accuracy: 0.7667\n",
            "Epoch 7/20\n",
            "28000/28000 [==============================] - 134s 5ms/step - loss: 0.4296 - accuracy: 0.8042 - val_loss: 0.4993 - val_accuracy: 0.7650\n",
            "Epoch 8/20\n",
            "28000/28000 [==============================] - 136s 5ms/step - loss: 0.4255 - accuracy: 0.8068 - val_loss: 0.5039 - val_accuracy: 0.7635\n",
            "Epoch 9/20\n",
            "28000/28000 [==============================] - 137s 5ms/step - loss: 0.4219 - accuracy: 0.8088 - val_loss: 0.5086 - val_accuracy: 0.7628\n",
            "Epoch 10/20\n",
            "28000/28000 [==============================] - 134s 5ms/step - loss: 0.4188 - accuracy: 0.8106 - val_loss: 0.5135 - val_accuracy: 0.7611\n",
            "Epoch 11/20\n",
            "28000/28000 [==============================] - 146s 5ms/step - loss: 0.4161 - accuracy: 0.8121 - val_loss: 0.5174 - val_accuracy: 0.7603\n",
            "Epoch 12/20\n",
            "28000/28000 [==============================] - 159s 6ms/step - loss: 0.4137 - accuracy: 0.8137 - val_loss: 0.5213 - val_accuracy: 0.7594\n",
            "Epoch 13/20\n",
            "28000/28000 [==============================] - 150s 5ms/step - loss: 0.4117 - accuracy: 0.8148 - val_loss: 0.5252 - val_accuracy: 0.7587\n",
            "Epoch 14/20\n",
            "28000/28000 [==============================] - 137s 5ms/step - loss: 0.4100 - accuracy: 0.8159 - val_loss: 0.5294 - val_accuracy: 0.7572\n",
            "Epoch 15/20\n",
            "28000/28000 [==============================] - 136s 5ms/step - loss: 0.4084 - accuracy: 0.8167 - val_loss: 0.5328 - val_accuracy: 0.7566\n",
            "Epoch 16/20\n",
            "28000/28000 [==============================] - 130s 5ms/step - loss: 0.4069 - accuracy: 0.8175 - val_loss: 0.5352 - val_accuracy: 0.7562\n",
            "Epoch 17/20\n",
            "28000/28000 [==============================] - 130s 5ms/step - loss: 0.4057 - accuracy: 0.8181 - val_loss: 0.5386 - val_accuracy: 0.7564\n",
            "Epoch 18/20\n",
            "28000/28000 [==============================] - 132s 5ms/step - loss: 0.4045 - accuracy: 0.8190 - val_loss: 0.5424 - val_accuracy: 0.7551\n",
            "Epoch 19/20\n",
            "28000/28000 [==============================] - 133s 5ms/step - loss: 0.4035 - accuracy: 0.8196 - val_loss: 0.5440 - val_accuracy: 0.7555\n",
            "Epoch 20/20\n",
            "28000/28000 [==============================] - 131s 5ms/step - loss: 0.4026 - accuracy: 0.8201 - val_loss: 0.5465 - val_accuracy: 0.7548\n"
          ]
        }
      ]
    },
    {
      "cell_type": "code",
      "source": [
        "plt.plot(hist.history['loss'])\n",
        "plt.plot(hist.history['val_loss'])\n",
        "plt.legend(['Training', 'Validation'])\n",
        "plt.xlabel('Epoch')\n",
        "plt.title('Training and validation loss')"
      ],
      "metadata": {
        "colab": {
          "base_uri": "https://localhost:8080/",
          "height": 312
        },
        "id": "XztWunpzREIm",
        "outputId": "96c789ff-0ea3-420d-a8ea-a05b0b3f602d"
      },
      "execution_count": null,
      "outputs": [
        {
          "output_type": "execute_result",
          "data": {
            "text/plain": [
              "Text(0.5, 1.0, 'Training and validation loss')"
            ]
          },
          "metadata": {},
          "execution_count": 65
        },
        {
          "output_type": "display_data",
          "data": {
            "text/plain": [
              "<Figure size 432x288 with 1 Axes>"
            ],
            "image/png": "[encoded data removed]"
          },
          "metadata": {
            "needs_background": "light"
          }
        }
      ]
    },
    {
      "cell_type": "code",
      "source": [
        "plt.plot(hist.history['accuracy'])\n",
        "plt.plot(hist.history['val_accuracy'])\n",
        "plt.legend(['Training', 'Validation'])\n",
        "plt.xlabel('Epoch')\n",
        "plt.title('Training and validation accuracy')"
      ],
      "metadata": {
        "colab": {
          "base_uri": "https://localhost:8080/",
          "height": 312
        },
        "id": "K0Tldc2j_xYG",
        "outputId": "2ae72a6d-f6df-4e2e-dc11-542e65cd229b"
      },
      "execution_count": null,
      "outputs": [
        {
          "output_type": "execute_result",
          "data": {
            "text/plain": [
              "Text(0.5, 1.0, 'Training and validation accuracy')"
            ]
          },
          "metadata": {},
          "execution_count": 70
        },
        {
          "output_type": "display_data",
          "data": {
            "text/plain": [
              "<Figure size 432x288 with 1 Axes>"
            ],
            "image/png": "[encoded data removed]"
          },
          "metadata": {
            "needs_background": "light"
          }
        }
      ]
    },
    {
      "cell_type": "code",
      "source": [
        "from sklearn.metrics import classification_report\n",
        "\n",
        "preds = best_model.predict(seq_test_padded)\n",
        "y_pred = np.argmax(preds, axis=1)\n",
        "print(classification_report(y_pred,df_test.label))\n",
        "cm = confusion_matrix(y_pred,df_test.label)\n",
        "disp = ConfusionMatrixDisplay(confusion_matrix=cm,\n",
        "                              display_labels=model1.classes_)\n",
        "disp.plot()"
      ],
      "metadata": {
        "colab": {
          "base_uri": "https://localhost:8080/",
          "height": 470
        },
        "id": "qx39tNIgRA4P",
        "outputId": "ff0d6f27-9e1c-4c41-c4d3-0070976ba678"
      },
      "execution_count": null,
      "outputs": [
        {
          "output_type": "stream",
          "name": "stdout",
          "text": [
            "15000/15000 [==============================] - 19s 1ms/step\n",
            "              precision    recall  f1-score   support\n",
            "\n",
            "           0       0.75      0.76      0.75    237028\n",
            "           1       0.76      0.75      0.76    242972\n",
            "\n",
            "    accuracy                           0.75    480000\n",
            "   macro avg       0.75      0.75      0.75    480000\n",
            "weighted avg       0.75      0.75      0.75    480000\n",
            "\n"
          ]
        },
        {
          "output_type": "execute_result",
          "data": {
            "text/plain": [
              "<sklearn.metrics._plot.confusion_matrix.ConfusionMatrixDisplay at 0x7f87dc212220>"
            ]
          },
          "metadata": {},
          "execution_count": 69
        },
        {
          "output_type": "display_data",
          "data": {
            "text/plain": [
              "<Figure size 432x288 with 2 Axes>"
            ],
            "image/png": "[encoded data removed]"
          },
          "metadata": {
            "needs_background": "light"
          }
        }
      ]
    }
  ]
}